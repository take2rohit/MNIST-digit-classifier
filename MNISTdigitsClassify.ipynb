{
 "cells": [
  {
   "cell_type": "code",
   "execution_count": 1,
   "metadata": {},
   "outputs": [],
   "source": [
    "import tensorflow as tf\n",
    "import random\n",
    "import matplotlib.pyplot as plt\n",
    "import numpy as np"
   ]
  },
  {
   "cell_type": "code",
   "execution_count": 2,
   "metadata": {},
   "outputs": [],
   "source": [
    "(x_train,y_train),(x_test,y_test)= tf.keras.datasets.mnist.load_data()\n",
    "x_train = tf.keras.utils.normalize(x_train,axis=1)\n",
    "x_test = tf.keras.utils.normalize(x_test,axis=1)"
   ]
  },
  {
   "cell_type": "code",
   "execution_count": 3,
   "metadata": {},
   "outputs": [
    {
     "name": "stdout",
     "output_type": "stream",
     "text": [
      "(60000, 28, 28) \t (60000,) \n",
      " (10000, 28, 28) \t (10000,)\n"
     ]
    }
   ],
   "source": [
    "print(x_train.shape,'\\t',y_train.shape,'\\n',x_test.shape,'\\t',y_test.shape)"
   ]
  },
  {
   "cell_type": "code",
   "execution_count": 4,
   "metadata": {},
   "outputs": [
    {
     "name": "stdout",
     "output_type": "stream",
     "text": [
      "The Test number is:  2\n"
     ]
    },
    {
     "data": {
      "image/png": "[encoded data removed]",
      "text/plain": [
       "<Figure size 432x288 with 1 Axes>"
      ]
     },
     "metadata": {
      "needs_background": "light"
     },
     "output_type": "display_data"
    }
   ],
   "source": [
    "x = random.randint(0,9000)\n",
    "plt.imshow(x_train[x])\n",
    "print('The Test number is: ', y_train[x])"
   ]
  },
  {
   "cell_type": "code",
   "execution_count": 12,
   "metadata": {},
   "outputs": [],
   "source": [
    "model = tf.keras.models.Sequential()\n",
    "model.add(tf.keras.layers.Flatten())\n",
    "\n",
    "model.add(tf.keras.layers.Dense(128,activation = tf.nn.relu))\n",
    "model.add(tf.keras.layers.Dropout(0.5))\n",
    "model.add(tf.keras.layers.Dense(256,activation = tf.nn.relu))\n",
    "model.add(tf.keras.layers.Dropout(0.3))\n",
    "model.add(tf.keras.layers.Dense(10,activation = tf.nn.softmax))\n",
    "model.compile(optimizer ='adam',loss = 'sparse_categorical_crossentropy',metrics = ['accuracy'])"
   ]
  },
  {
   "cell_type": "code",
   "execution_count": 13,
   "metadata": {
    "scrolled": false
   },
   "outputs": [
    {
     "name": "stdout",
     "output_type": "stream",
     "text": [
      "Epoch 1/40\n",
      "60000/60000 [==============================] - 1s 12us/step - loss: 0.4676 - acc: 0.8780\n",
      "Epoch 2/40\n",
      "60000/60000 [==============================] - 1s 11us/step - loss: 0.1836 - acc: 0.9457\n",
      "Epoch 3/40\n",
      "60000/60000 [==============================] - 1s 11us/step - loss: 0.1285 - acc: 0.9608\n",
      "Epoch 4/40\n",
      "60000/60000 [==============================] - 1s 11us/step - loss: 0.0982 - acc: 0.9710\n",
      "Epoch 5/40\n",
      "60000/60000 [==============================] - 1s 11us/step - loss: 0.0782 - acc: 0.9763\n",
      "Epoch 6/40\n",
      "60000/60000 [==============================] - 1s 10us/step - loss: 0.0626 - acc: 0.9812\n",
      "Epoch 7/40\n",
      "60000/60000 [==============================] - 1s 10us/step - loss: 0.0525 - acc: 0.9841\n",
      "Epoch 8/40\n",
      "60000/60000 [==============================] - 1s 10us/step - loss: 0.0424 - acc: 0.9877\n",
      "Epoch 9/40\n",
      "60000/60000 [==============================] - 1s 10us/step - loss: 0.0359 - acc: 0.9890\n",
      "Epoch 10/40\n",
      "60000/60000 [==============================] - 1s 10us/step - loss: 0.0299 - acc: 0.9911\n",
      "Epoch 11/40\n",
      "60000/60000 [==============================] - 1s 10us/step - loss: 0.0242 - acc: 0.9932\n",
      "Epoch 12/40\n",
      "60000/60000 [==============================] - 1s 10us/step - loss: 0.0195 - acc: 0.9946\n",
      "Epoch 13/40\n",
      "60000/60000 [==============================] - 1s 10us/step - loss: 0.0153 - acc: 0.9960\n",
      "Epoch 14/40\n",
      "60000/60000 [==============================] - 1s 10us/step - loss: 0.0127 - acc: 0.9968\n",
      "Epoch 15/40\n",
      "60000/60000 [==============================] - 1s 10us/step - loss: 0.0105 - acc: 0.9974\n",
      "Epoch 16/40\n",
      "60000/60000 [==============================] - 1s 9us/step - loss: 0.0086 - acc: 0.9979\n",
      "Epoch 17/40\n",
      "60000/60000 [==============================] - 1s 9us/step - loss: 0.0082 - acc: 0.9981\n",
      "Epoch 18/40\n",
      "60000/60000 [==============================] - 1s 9us/step - loss: 0.0071 - acc: 0.9983\n",
      "Epoch 19/40\n",
      "60000/60000 [==============================] - 1s 9us/step - loss: 0.0038 - acc: 0.9995\n",
      "Epoch 20/40\n",
      "60000/60000 [==============================] - 1s 9us/step - loss: 0.0029 - acc: 0.9997\n",
      "Epoch 21/40\n",
      "60000/60000 [==============================] - 1s 9us/step - loss: 0.0033 - acc: 0.9994\n",
      "Epoch 22/40\n",
      "60000/60000 [==============================] - 1s 9us/step - loss: 0.0057 - acc: 0.9986\n",
      "Epoch 23/40\n",
      "60000/60000 [==============================] - 1s 9us/step - loss: 0.0159 - acc: 0.9940\n",
      "Epoch 24/40\n",
      "60000/60000 [==============================] - 1s 10us/step - loss: 0.0061 - acc: 0.9981\n",
      "Epoch 25/40\n",
      "60000/60000 [==============================] - 1s 9us/step - loss: 0.0021 - acc: 0.9996\n",
      "Epoch 26/40\n",
      "60000/60000 [==============================] - 1s 9us/step - loss: 7.2595e-04 - acc: 1.0000\n",
      "Epoch 27/40\n",
      "60000/60000 [==============================] - 1s 9us/step - loss: 4.3133e-04 - acc: 1.0000\n",
      "Epoch 28/40\n",
      "60000/60000 [==============================] - 1s 10us/step - loss: 3.2155e-04 - acc: 1.0000\n",
      "Epoch 29/40\n",
      "60000/60000 [==============================] - 1s 9us/step - loss: 2.7362e-04 - acc: 1.0000\n",
      "Epoch 30/40\n",
      "60000/60000 [==============================] - 1s 9us/step - loss: 2.3653e-04 - acc: 1.0000\n",
      "Epoch 31/40\n",
      "60000/60000 [==============================] - 1s 9us/step - loss: 2.1140e-04 - acc: 1.0000\n",
      "Epoch 32/40\n",
      "60000/60000 [==============================] - 1s 9us/step - loss: 1.8437e-04 - acc: 1.0000\n",
      "Epoch 33/40\n",
      "60000/60000 [==============================] - 1s 9us/step - loss: 1.6539e-04 - acc: 1.0000\n",
      "Epoch 34/40\n",
      "60000/60000 [==============================] - 1s 9us/step - loss: 1.5319e-04 - acc: 1.0000\n",
      "Epoch 35/40\n",
      "60000/60000 [==============================] - 1s 9us/step - loss: 1.3554e-04 - acc: 1.0000\n",
      "Epoch 36/40\n",
      "60000/60000 [==============================] - 1s 9us/step - loss: 1.2551e-04 - acc: 1.0000\n",
      "Epoch 37/40\n",
      "60000/60000 [==============================] - 1s 9us/step - loss: 1.0780e-04 - acc: 1.0000\n",
      "Epoch 38/40\n",
      "60000/60000 [==============================] - 1s 9us/step - loss: 9.6392e-05 - acc: 1.0000\n",
      "Epoch 39/40\n",
      "60000/60000 [==============================] - 1s 9us/step - loss: 8.6035e-05 - acc: 1.0000\n",
      "Epoch 40/40\n",
      "60000/60000 [==============================] - 1s 9us/step - loss: 7.5130e-05 - acc: 1.0000\n"
     ]
    },
    {
     "data": {
      "text/plain": [
       "<tensorflow.python.keras.callbacks.History at 0x7ff968796f28>"
      ]
     },
     "execution_count": 13,
     "metadata": {},
     "output_type": "execute_result"
    }
   ],
   "source": [
    "model.fit(x_train,y_train,batch_size = 256, epochs =40)"
   ]
  },
  {
   "cell_type": "code",
   "execution_count": 11,
   "metadata": {},
   "outputs": [
    {
     "name": "stdout",
     "output_type": "stream",
     "text": [
      "10000/10000 [==============================] - 0s 25us/step\n",
      "\n",
      " Accuracy on test set:  97.67\n"
     ]
    }
   ],
   "source": [
    "val_loss,val_accuracy = model.evaluate(x_test,y_test)\n",
    "print('\\n' , 'Accuracy on test set: ', val_accuracy*100)"
   ]
  },
  {
   "cell_type": "code",
   "execution_count": 8,
   "metadata": {},
   "outputs": [
    {
     "name": "stdout",
     "output_type": "stream",
     "text": [
      "predicted number is:  1\n"
     ]
    },
    {
     "data": {
      "text/plain": [
       "<matplotlib.image.AxesImage at 0x7ff98d559cc0>"
      ]
     },
     "execution_count": 8,
     "metadata": {},
     "output_type": "execute_result"
    },
    {
     "data": {
      "image/png": "[encoded data removed]",
      "text/plain": [
       "<Figure size 432x288 with 1 Axes>"
      ]
     },
     "metadata": {
      "needs_background": "light"
     },
     "output_type": "display_data"
    }
   ],
   "source": [
    "x = random.randint(0,9000)\n",
    "predict = model.predict(x_test)\n",
    "print('predicted number is: ', np.argmax(predict[x]))\n",
    "\n",
    "plt.imshow(x_test[x])"
   ]
  },
  {
   "cell_type": "code",
   "execution_count": null,
   "metadata": {},
   "outputs": [],
   "source": []
  }
 ],
 "metadata": {
  "kernelspec": {
   "display_name": "Python 3",
   "language": "python",
   "name": "python3"
  },
  "language_info": {
   "codemirror_mode": {
    "name": "ipython",
    "version": 3
   },
   "file_extension": ".py",
   "mimetype": "text/x-python",
   "name": "python",
   "nbconvert_exporter": "python",
   "pygments_lexer": "ipython3",
   "version": "3.6.7"
  }
 },
 "nbformat": 4,
 "nbformat_minor": 2
}
